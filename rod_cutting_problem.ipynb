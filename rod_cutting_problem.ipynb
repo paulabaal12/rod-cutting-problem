{
  "cells": [
    {
      "cell_type": "markdown",
      "metadata": {},
      "source": [
        "# **Laboratorio: Problema de Corte de Varillas (Rod Cutting)**\n",
        "- Francis Aguilar #22243\n",
        "- Paula Barillas #22764"
      ]
    },
    {
      "cell_type": "markdown",
      "metadata": {
        "id": "O4JB8x8gwCs5"
      },
      "source": [
        "## **Descripción del Problema**\n",
        "Dada una varilla de longitud \\( n \\) y una lista de precios donde el índice \\( i \\) representa el precio de una varilla de longitud \\( i \\), encuentra la mejor forma de cortarla para obtener el máximo beneficio.\n",
        "\n",
        "Por ejemplo, si los precios son:\n",
        "\n",
        "| Longitud | 1  | 2  | 3  | 4  | 5  | 6  | 7  | 8  | 9  | 10  |\n",
        "|----------|----|----|----|----|----|----|----|----|----|----|\n",
        "| Precio   | 1  | 5  | 8  | 9  | 10 | 17 | 17 | 20 | 24 | 30 |\n",
        "\n",
        "y la varilla mide 4 unidades, hay varias opciones:\n",
        "\n",
        "1. No cortar la varilla y venderla entera (\\$9).\n",
        "2. Cortarla en dos partes de longitud 2 (\\$5 + \\$5 = \\$10) → **Mejor opción**.\n",
        "3. Cortarla en longitudes 1 y 3 (\\$1 + \\$8 = \\$9).\n",
        "\n",
        "La respuesta óptima sería **10**.\n",
        "\n",
        "---\n",
        "\n",
        "## **Guía para Resolverlo con Programación Dinámica**\n",
        "### **Paso 1: Definir la Recurrencia**\n",
        "La solución óptima se puede expresar mediante la siguiente ecuación de recurrencia:\n",
        "\n",
        "`dp[n] = max(price[i] + dp[n - i]) for all 1 ≤ i ≤ n`\n",
        "\n",
        "Esto significa que:\n",
        "- Si cortamos la varilla en una pieza de longitud *i*, la ganancia será el precio de *i* más la mejor solución para la varilla restante (\\( n - i \\)).\n",
        "- Se utiliza una tabla \\( dp[] \\) para almacenar las ganancias máximas obtenibles para cada longitud de varilla.\n",
        "\n",
        "---\n",
        "\n",
        "### **Paso 2: Implementación Bottom-Up**\n",
        "- Se construye una tabla `dp[]` donde `dp[i]`\n",
        " representa la mejor ganancia para una varilla de longitud \\( i \\).\n",
        "- Para cada posible corte, se actualiza la mejor ganancia posible.\n",
        "- Se usa una lista auxiliar para reconstruir los cortes óptimos.\n",
        "\n",
        "\n"
      ]
    },
    {
      "cell_type": "markdown",
      "metadata": {},
      "source": [
        "## **Tarea**\n",
        "Completa la implementación de la función `rod_cutting(prices, n)` usando programación dinámica. La función debe devolver:\n",
        "1. La máxima ganancia posible.\n",
        "2. La lista de cortes óptimos para obtener esa ganancia."
      ]
    },
    {
      "cell_type": "code",
      "execution_count": 17,
      "metadata": {},
      "outputs": [
        {
          "name": "stdout",
          "output_type": "stream",
          "text": [
            "Ganancia máxima: 22\n",
            "Cortes óptimos: [2, 6]\n"
          ]
        }
      ],
      "source": [
        "def rod_cutting(prices, n):\n",
        "    \"\"\"\n",
        "    Calcula la máxima ganancia posible al cortar una varilla de longitud n.\n",
        "    \n",
        "    :param prices: Lista de precios donde prices[i] representa el precio de la varilla de longitud i.\n",
        "    :param n: Longitud total de la varilla.\n",
        "    :return: La máxima ganancia y la lista de cortes óptimos.\n",
        "    \"\"\"\n",
        "    # Inicializar estructura para DP\n",
        "    dp = [0] * (n + 1)  # dp[i] almacena la ganancia máxima para una varilla de longitud i\n",
        "    cuts = [0] * (n + 1)  # cuts[i] almacena el primer corte óptimo para una varilla de longitud i\n",
        "    \n",
        "    # bottom-up llenando dp[] hasta dp[n]\n",
        "    for i in range(1, n + 1):\n",
        "        max_val = float('-inf')\n",
        "        for j in range(1, min(i + 1, len(prices))):\n",
        "            if max_val < prices[j] + dp[i - j]:\n",
        "                max_val = prices[j] + dp[i - j]\n",
        "                cuts[i] = j  \n",
        "        dp[i] = max_val\n",
        "    \n",
        "    optimal_cuts = []\n",
        "    remaining = n\n",
        "    while remaining > 0:\n",
        "        optimal_cuts.append(cuts[remaining])\n",
        "        remaining -= cuts[remaining]\n",
        "    \n",
        "    return dp[n], optimal_cuts\n",
        "\n",
        "# Definir precios\n",
        "prices = [0, 1, 5, 8, 9, 10, 17, 17, 20, 24, 30]\n",
        "n = 8\n",
        "max_profit, cuts = rod_cutting(prices, n)\n",
        "print(f\"Ganancia máxima: {max_profit}\")\n",
        "print(f\"Cortes óptimos: {cuts}\")"
      ]
    },
    {
      "cell_type": "markdown",
      "metadata": {},
      "source": [
        "### **Casos de Prueba**"
      ]
    },
    {
      "cell_type": "code",
      "execution_count": null,
      "metadata": {
        "vscode": {
          "languageId": "markdown"
        }
      },
      "outputs": [
        {
          "name": "stdout",
          "output_type": "stream",
          "text": [
            "Test 1: Expected 10, Got 10, Cuts: [2, 2]\n",
            "Test 2: Expected 22, Got 22, Cuts: [2, 6]\n",
            "Test 3: Expected 15, Got 15, Cuts: [1, 1, 1, 1, 1]\n",
            "Test 4: Expected 10, Got 10, Cuts: [1, 1, 1, 1, 1, 1, 1, 1, 1, 1]\n"
          ]
        }
      ],
      "source": [
        "def test_rod_cutting():\n",
        "    test_cases = [\n",
        "        ([0, 1, 5, 8, 9, 10, 17, 17, 20, 24, 30], 4, 10),  # Caso básico\n",
        "        ([0, 1, 5, 8, 9, 10, 17, 17, 20, 24, 30], 8, 22),  # Varilla larga\n",
        "        ([0, 3, 5, 8, 9, 10, 17, 17, 20, 24, 30], 5, 15),  # Diferente tabla de precios\n",
        "        ([0, 2, 5, 7, 8, 10, 15, 17, 20, 24, 30], 7, 18),  # Variación en valores\n",
        "        ([0, 1, 2, 3, 4, 5, 6, 7, 8, 9, 10], 10, 10)  # Caso donde conviene no cortar\n",
        "    ]\n",
        "\n",
        "    for i, (prices, n, expected) in enumerate(test_cases):\n",
        "        result, cuts = rod_cutting(prices, n)\n",
        "        print(f\"Test {i+1}: Expected {expected}, Got {result}, Cuts: {cuts}\")\n",
        "        assert result == expected, f\"Failed on test case {i+1}\"\n",
        "\n",
        "test_rod_cutting()"
      ]
    },
    {
      "cell_type": "markdown",
      "metadata": {},
      "source": [
        "### **Referencias**\n",
        "- https://sites.radford.edu/~nokie/classes/360/dp-rod-cutting.html\n",
        "- https://algorithm-wiki.csail.mit.edu/wiki/Rod-Cutting_Problem\n",
        "- https://web.stanford.edu/class/archive/cs/cs161/cs161.1168/lecture12.pdf"
      ]
    }
  ],
  "metadata": {
    "colab": {
      "provenance": []
    },
    "kernelspec": {
      "display_name": "Python 3",
      "name": "python3"
    },
    "language_info": {
      "codemirror_mode": {
        "name": "ipython",
        "version": 3
      },
      "file_extension": ".py",
      "mimetype": "text/x-python",
      "name": "python",
      "nbconvert_exporter": "python",
      "pygments_lexer": "ipython3",
      "version": "3.11.9"
    }
  },
  "nbformat": 4,
  "nbformat_minor": 0
}
